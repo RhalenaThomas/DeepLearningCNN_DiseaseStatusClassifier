{
 "cells": [
  {
   "cell_type": "code",
   "execution_count": null,
   "id": "455ab11b",
   "metadata": {},
   "outputs": [],
   "source": []
  }
 ],
 "metadata": {
  "kernelspec": {
   "display_name": "Python 3.9.0 ('venv': venv)",
   "language": "python",
   "name": "python390jvsc74a57bd0684302c300eff0b62fe689c5a68997e188347b7361bba76c4d20b295dbaf8d1b"
  },
  "language_info": {
   "codemirror_mode": {
    "name": "ipython",
    "version": 3
   },
   "file_extension": ".py",
   "mimetype": "text/x-python",
   "name": "python",
   "nbconvert_exporter": "python",
   "pygments_lexer": "ipython3",
   "version": "3.9.0"
  }
 },
 "nbformat": 4,
 "nbformat_minor": 5
}
